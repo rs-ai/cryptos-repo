{
 "cells": [
  {
   "cell_type": "markdown",
   "metadata": {},
   "source": [
    "Documentation:\n",
    "This code allows you to do your own research using coinmarketcap API's.\n",
    "\n",
    "Very simply - first you can see the top 10 coins to see the leaders in the market - what's returned is set in parameters and can be modified.\n",
    "\n",
    "Then you can also research which of them have had maximum volume change in the last 24H \n",
    "\n",
    "Also check which have had maximum price changes in last 7 Days - this gives you information on coins which are having a lot of movement allowing you to check any potential winners.\n",
    "\n",
    "You have to provide choices when the program runs - please input the exact strings for the API to sort on that input market_cap, volume_24h, percent_change_7d\n",
    "\n",
    "If you need any installations e.g.  \n",
    "pip install xlsxwriter \n",
    "\n",
    "API documentation available here https://coinmarketcap.com/api/documentation/v1/#tag/cryptocurrency\n",
    "\n",
    "Please note that this code is using the sandbox API - if you sign-up to coinmarketcap - then you can get your API Key and run against the production API as well.\n",
    "\n",
    "The code will also save the output in an excel file within the home directory where you store the python file, so that you can review the output."
   ]
  },
  {
   "cell_type": "code",
   "execution_count": 1,
   "metadata": {},
   "outputs": [],
   "source": [
    "import json\n",
    "from requests import Request, Session\n",
    "from requests.exceptions import ConnectionError, Timeout, TooManyRedirects\n",
    "import json\n",
    "from datetime import datetime\n",
    "from prettytable import PrettyTable\n",
    "from colorama import Fore, Back, Style\n",
    "import xlsxwriter"
   ]
  },
  {
   "cell_type": "code",
   "execution_count": 3,
   "metadata": {},
   "outputs": [
    {
     "name": "stdout",
     "output_type": "stream",
     "text": [
      "User Choice\n",
      "market_cap - Sort values by CoinMarketCap's market cap rank\n",
      "volume_24h - Sort values by rolling 24 hour adjusted trading volume.\n",
      "percent_change_7d - Sort values by  7 day trading price percentage change for each currency\n",
      "what is your Choice, input one of the three optionspercent_change_7d\n",
      "Rank | Symbol |  Name | Price in USD | Market Cap | Volume_24h | Percent Change_7d\n",
      "2040|CUST|Custody Token|0.0370123042973|None|1946.16\n",
      "1712|ZZC|ZoZoCoin|0.0113666780277|22125.10604087637|999.785\n",
      "1228|AVINOC|AVINOC|0.000589002108859|229265.81498402444|720.233\n",
      "1543|UTC|UltraCoin|0.0012235431584|58456.90826105377|531.765\n",
      "2163|TRP|Tronipay|0.0261748674363|None|357.139\n",
      "846|WSD|White Standard|2.55429373908|1122361.7775392302|351.703\n",
      "1410|WSP|Wispr|0.00362969550464|110628.3997782215|344.774\n",
      "138|DEX|DEX|0.108626726207|20806611.94829142|344.721\n",
      "1864|MILO|MiloCoin|0.000512939475417|5534.593197858927|344.678\n",
      "1190|CREDIT|CREDIT|2.17731098415e-05|271236.3281348928|320.187\n"
     ]
    }
   ],
   "source": [
    "# Create a workbook and add a worksheet.\n",
    "workbook = xlsxwriter.Workbook('cryptos_test.xlsx')\n",
    "worksheet = workbook.add_worksheet()\n",
    "\n",
    "\n",
    "##use the sandbox environment and the sandbox API key for testing your code\n",
    "url1 = 'https://sandbox-api.coinmarketcap.com/v1/cryptocurrency/map'\n",
    "url2 = 'https://sandbox-api.coinmarketcap.com/v1/cryptocurrency/info'\n",
    "url3 = 'https://sandbox-api.coinmarketcap.com/v1/cryptocurrency/listings/latest'\n",
    "\n",
    "print('User Choice')\n",
    "print('market_cap - Sort values by CoinMarketCap\\'s market cap rank')\n",
    "print('volume_24h - Sort values by rolling 24 hour adjusted trading volume.')\n",
    "print('percent_change_7d - Sort values by  7 day trading price percentage change for each currency')\n",
    "\n",
    "user_choice = input('what is your Choice, input one of the three options')\n",
    "\n",
    "parameters = {\n",
    "  'start':'1',\n",
    "  'limit':'10',\n",
    "  'convert':'USD',\n",
    "  'sort':str(user_choice)\n",
    "}\n",
    "headers = {\n",
    "  'Accepts': 'application/json',\n",
    "  'Accept-Encoding': 'deflate, gzip',\n",
    "  'X-CMC_PRO_API_KEY': 'b54bcf4d-1bca-4e8e-9a24-22ff2c3d462c', #sandbox key\n",
    "}\n",
    "\n",
    "session = Session()\n",
    "session.headers.update(headers)\n",
    "\n",
    "print('Rank | Symbol |  Name | Price in USD | Market Cap | Volume_24h | Percent Change_7d')\n",
    "\n",
    "row = 0\n",
    "col = 0\n",
    "\n",
    "worksheet.write(row,0,'Rank')\n",
    "worksheet.write(row,1,'Symbol')\n",
    "worksheet.write(row,2,'name')\n",
    "worksheet.write(row,3,'Price')\n",
    "worksheet.write(row,4,'Market Cap')\n",
    "worksheet.write(row,5,'Volume_24H')\n",
    "worksheet.write(row,6,'Percent_Change_7D')\n",
    "row = row + 1\n",
    "\n",
    "try:\n",
    "  response = session.get(url3, params=parameters)\n",
    "  data = json.loads(response.text)\n",
    "  #print(json.dumps(data,sort_keys = True,indent = 4))\n",
    "  data = data['data']\n",
    "    \n",
    "  for x in data:\n",
    "    value = str(x['cmc_rank']) + '|' + x['symbol'] +'|' +x['name'] + '|' + str(x['quote']['USD']['price']) + '|' + str(x['quote']['USD']['market_cap']) + '|' + str(x['quote']['USD']['percent_change_7d'])\n",
    "    print(value)\n",
    "    worksheet.write(row, 0, str(x['cmc_rank']))\n",
    "    worksheet.write(row, 1, x['symbol'])\n",
    "    worksheet.write(row, 2, x['name'])\n",
    "    worksheet.write(row, 3, str(x['quote']['USD']['price']))\n",
    "    worksheet.write(row, 4, str(x['quote']['USD']['market_cap']))\n",
    "    worksheet.write(row, 5, str(x['quote']['USD']['volume_24h']))\n",
    "    worksheet.write(row, 6, str(x['quote']['USD']['percent_change_7d']))\n",
    "    row += 1\n",
    "except (ConnectionError, Timeout, TooManyRedirects) as e:\n",
    "  print(e)\n",
    "\n",
    "workbook.close()\n",
    "\n",
    "\n"
   ]
  },
  {
   "cell_type": "code",
   "execution_count": null,
   "metadata": {},
   "outputs": [],
   "source": []
  },
  {
   "cell_type": "code",
   "execution_count": null,
   "metadata": {},
   "outputs": [],
   "source": []
  },
  {
   "cell_type": "code",
   "execution_count": null,
   "metadata": {},
   "outputs": [],
   "source": []
  }
 ],
 "metadata": {
  "kernelspec": {
   "display_name": "Python 3",
   "language": "python",
   "name": "python3"
  },
  "language_info": {
   "codemirror_mode": {
    "name": "ipython",
    "version": 3
   },
   "file_extension": ".py",
   "mimetype": "text/x-python",
   "name": "python",
   "nbconvert_exporter": "python",
   "pygments_lexer": "ipython3",
   "version": "3.7.6"
  }
 },
 "nbformat": 4,
 "nbformat_minor": 4
}
